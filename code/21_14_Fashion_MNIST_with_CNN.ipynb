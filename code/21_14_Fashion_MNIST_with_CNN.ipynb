{
  "nbformat": 4,
  "nbformat_minor": 0,
  "metadata": {
    "colab": {
      "name": "21-14 Fashion_MNIST_with_CNN.ipynb",
      "provenance": [],
      "collapsed_sections": [],
      "include_colab_link": true
    },
    "kernelspec": {
      "name": "python3",
      "display_name": "Python 3"
    },
    "accelerator": "GPU"
  },
  "cells": [
    {
      "cell_type": "markdown",
      "metadata": {
        "id": "view-in-github",
        "colab_type": "text"
      },
      "source": [
        "<a href=\"https://colab.research.google.com/github/ai7dnn/2021-2-DNN/blob/main/code/21_14_Fashion_MNIST_with_CNN.ipynb\" target=\"_parent\"><img src=\"https://colab.research.google.com/assets/colab-badge.svg\" alt=\"Open In Colab\"/></a>"
      ]
    },
    {
      "cell_type": "markdown",
      "metadata": {
        "id": "CztO8nHOV8_3"
      },
      "source": [
        "---\n",
        "title: \"Tensorflow 2.0 Tutorial ch6.3 - Fashion MNIST with CNN 실습\"\n",
        "date: 2020-04-21T10:08:30+09:00\n",
        "tags:\n",
        "  - \"Deep Learning\"\n",
        "  - \"Python\"\n",
        "  - \"Google Colab\"\n",
        "  - \"Tensorflow 2.0\"\n",
        "  - \"Binary Classification\"\n",
        "  - \"Classification\"\n",
        "  - \"컨볼루션 신경망\"\n",
        "  - \"Convolutional Neural Network\"\n",
        "  - \"CNN\"\n",
        "  - \"텐서플로 2.0\"\n",
        "  - \"텐서플로 2.0 튜토리얼\"\n",
        "  - \"Tensorflow 2.0 Tutorial\"\n",
        "categories:\n",
        "  - \"Deep Learning\"\n",
        "  - \"딥러닝\"\n",
        "  - \"텐서플로 2.0\"\n",
        "  - \"Python\"\n",
        "  - \"Tensorflow 2.0\"\n",
        "  - \"텐서플로 2.0 튜토리얼\"\n",
        "  - \"Tensorflow 2.0 Tutorial\"\n",
        "menu: \n",
        "  python:\n",
        "    name: Tensorflow 2.0 Tutorial ch6.3 - Fashion MNIST with CNN 실습\n",
        "---\n",
        "\n",
        "## 공지\n",
        "\n",
        "- 본 Tutorial은 교재 `시작하세요 텐서플로 2.0 프로그래밍`의 강사에게 국비교육 강의를 듣는 사람들에게 자료 제공을 목적으로 제작하였습니다. \n",
        "\n",
        "- 강사의 주관적인 판단으로 압축해서 자료를 정리하였기 때문에, 자세하게 공부를 하고 싶은 반드시 교재를 구매하실 것을 권해드립니다. \n",
        "\n",
        "![](/img/tensorflow2.0/book.jpg)<!-- -->\n",
        "\n",
        "\n",
        "- 본 교재 외에 강사가 추가한 내용에 대한 Reference를 확인하셔서, 추가적으로 학습하시는 것을 권유드립니다. \n",
        "\n",
        "\n",
        "## Tutorial\n",
        "\n",
        "이전 강의가 궁금하신 분들은 아래에서 선택하여 추가 학습 하시기를 바랍니다. \n",
        "\n",
        "- [Google Colab Tensorflow 2.0 Installation](https://chloevan.github.io/python/tensorflow2.0/googlecolab/)\n",
        "- [Tensorflow 2.0 Tutorial ch3.3.1 - 난수 생성 및 시그모이드 함수](https://chloevan.github.io/python/tensorflow2.0/ch3_3_1_random_signoid/)\n",
        "- [Tensorflow 2.0 Tutorial ch3.3.2 - 난수 생성 및 시그모이드 함수 편향성](https://chloevan.github.io/python/tensorflow2.0/ch3_3_2_random_signoid_bias/)\n",
        "- [Tensorflow 2.0 Tutorial ch3.3.3 - 첫번째 신경망 네트워크 - AND](https://chloevan.github.io/python/tensorflow2.0/ch3_3_3_network_and/)\n",
        "- [Tensorflow 2.0 Tutorial ch3.3.4 - 두번째 신경망 네트워크 - OR](https://chloevan.github.io/python/tensorflow2.0/ch3_3_4_network_or/)\n",
        "- [Tensorflow 2.0 Tutorial ch3.3.5 - 세번째 신경망 네트워크 - XOR](https://chloevan.github.io/python/tensorflow2.0/ch3_3_5_network_xor/)\n",
        "- [Tensorflow 2.0 Tutorial ch4.1 - 선형회귀](https://chloevan.github.io/python/tensorflow2.0/ch4_1_linear_regression/)\n",
        "- [Tensorflow 2.0 Tutorial ch4.2 - 다항회귀](https://chloevan.github.io/python/tensorflow2.0/ch4_2_multiple_linear_regression/)\n",
        "- [Tensorflow 2.0 Tutorial ch4.3 - 딥러닝 네트워크를 이용한 회귀](https://chloevan.github.io/python/tensorflow2.0/ch4_3_regression_with_deeplearning/)\n",
        "- [Tensorflow 2.0 Tutorial ch4.4 - 보스턴 주택 가격 데이터세트](https://chloevan.github.io/python/tensorflow2.0/ch4_4_boston_housing_deeplearning/)\n",
        "- [Tensorflow 2.0 Tutorial ch5.1 - 분류](https://chloevan.github.io/python/tensorflow2.0/ch5_1_binary_classification/)\n",
        "- [Tensorflow 2.0 Tutorial ch5.2 - 다항분류](https://chloevan.github.io/python/tensorflow2.0/ch5_2_multi_classification/)\n",
        "- [Tensorflow 2.0 Tutorial ch5.3 - Fashion MNIST](https://chloevan.github.io/python/tensorflow2.0/ch5_3_fashion_mnist/)\n",
        "- [Tensorflow 2.0 Tutorial ch6.1-2 - CNN 이론](https://chloevan.github.io/python/tensorflow2.0/ch6_1_2_cnn_theory/)\n",
        "\n",
        "\n",
        "## I. 개요\n",
        "\n",
        "이번 장은 앞에서 이론만 설명했기 때문에 이번에는 실습 위주로 진행합니다. 컨볼루션 레이어와 풀링 레이어, 드롭아웃을 사용해서 분류 문제를 푸는데 어떻게 해야 성능이 개선 되는지 알아봅니다. \n",
        "\n",
        "## II. 데이터 불러오기 및 정규화\n",
        "[5장](https://chloevan.github.io/python/tensorflow2.0/ch5_3_fashion_mnist/)에서 배운 내용을 근거로 데이터를 불러오고 정규화를 진행합니다.  "
      ]
    },
    {
      "cell_type": "code",
      "metadata": {
        "id": "fZLhxn1EXwxR",
        "colab": {
          "base_uri": "https://localhost:8080/"
        },
        "outputId": "bfaf8ff3-97f3-4b83-a1b9-71f4e365047e"
      },
      "source": [
        "import tensorflow as tf\n",
        "fashion_mnist = tf.keras.datasets.fashion_mnist\n",
        "(train_X, train_Y), (test_X, test_Y) = fashion_mnist.load_data()\n",
        "\n",
        "train_X = train_X / 255.0\n",
        "test_X = test_X / 255.0"
      ],
      "execution_count": null,
      "outputs": [
        {
          "output_type": "stream",
          "name": "stdout",
          "text": [
            "Downloading data from https://storage.googleapis.com/tensorflow/tf-keras-datasets/train-labels-idx1-ubyte.gz\n",
            "32768/29515 [=================================] - 0s 0us/step\n",
            "40960/29515 [=========================================] - 0s 0us/step\n",
            "Downloading data from https://storage.googleapis.com/tensorflow/tf-keras-datasets/train-images-idx3-ubyte.gz\n",
            "26427392/26421880 [==============================] - 0s 0us/step\n",
            "26435584/26421880 [==============================] - 0s 0us/step\n",
            "Downloading data from https://storage.googleapis.com/tensorflow/tf-keras-datasets/t10k-labels-idx1-ubyte.gz\n",
            "16384/5148 [===============================================================================================] - 0s 0us/step\n",
            "Downloading data from https://storage.googleapis.com/tensorflow/tf-keras-datasets/t10k-images-idx3-ubyte.gz\n",
            "4423680/4422102 [==============================] - 0s 0us/step\n",
            "4431872/4422102 [==============================] - 0s 0us/step\n"
          ]
        }
      ]
    },
    {
      "cell_type": "markdown",
      "metadata": {
        "id": "k2zwZ5pMa0d7"
      },
      "source": [
        "그런데, 6장에서는 `Conv2D`레이어로 컨볼루션 연산을 수행해야 합니다. 이미지는 보통 채널을 가지고 있고(컬러 이미지는 `RGB`의 3채널, 흑백 이미지는 1채널), `Conv2D`레이어는 채널을 가진 형태의 데이터를 받도록 기본적으로 설정되어 있기 때문에 예제 6.5에서는 채널을 갖도록 데이터의 `Shape`를 바꿔줍니다. \n",
        "\n"
      ]
    },
    {
      "cell_type": "code",
      "metadata": {
        "id": "zo6ZUdjFbgMM",
        "colab": {
          "base_uri": "https://localhost:8080/"
        },
        "outputId": "82c539d3-95a9-41e2-80ea-56688e551867"
      },
      "source": [
        "# reshape 이전\n",
        "print(train_X.shape, test_X.shape)\n",
        "\n",
        "train_X = train_X.reshape(-1, 28, 28, 1)\n",
        "test_X = test_X.reshape(-1, 28, 28, 1)\n",
        "\n",
        "# reshape 이후\n",
        "print(train_X.shape, test_X.shape)"
      ],
      "execution_count": null,
      "outputs": [
        {
          "output_type": "stream",
          "name": "stdout",
          "text": [
            "(60000, 28, 28) (10000, 28, 28)\n",
            "(60000, 28, 28, 1) (10000, 28, 28, 1)\n"
          ]
        }
      ]
    },
    {
      "cell_type": "markdown",
      "metadata": {
        "id": "CpRvLlCDb3No"
      },
      "source": [
        "`Fashion MNIST`데이터를 구성하는 흑백 이미지는 1개의 채널을 갖기 때문에 `reshape()` 함수를 사용해 데이터의 가장 뒤쪽에 채널 차원을 추가합니다. 이 작업으로 데이터 수는 달라지지는 않습니다. \n",
        "\n",
        "데이터를 확인하는 시각화를 진행합니다. "
      ]
    },
    {
      "cell_type": "code",
      "metadata": {
        "id": "JSaBSGgScLlt",
        "colab": {
          "base_uri": "https://localhost:8080/",
          "height": 597
        },
        "outputId": "44c6a293-7e4a-492f-ab1a-b4ce3bf2998d"
      },
      "source": [
        "import matplotlib.pyplot as plt\n",
        "\n",
        "# 전체 그래프의 크기를 width = 10, height = 10으로 지정합니다. \n",
        "plt.figure(figsize=(10, 10))\n",
        "for c in range(16): \n",
        "  # 4행 4열로 지정한 그리드에서 c+1번째의 칸에 그래프를 그립니다. 1~16번째 칸을 채우게 됩니다. \n",
        "  plt.subplot(4,4,c+1)\n",
        "  plt.xticks([])\n",
        "  plt.yticks([])\n",
        "  plt.imshow(train_X[c].reshape(28,28), cmap='gray')\n",
        "\n",
        "plt.show()\n",
        "\n",
        "# 훈련 데이터이 1~16번째 까지의 라벨 프린트합니다. \n",
        "print(train_Y[:16])"
      ],
      "execution_count": null,
      "outputs": [
        {
          "output_type": "display_data",
          "data": {
            "image/png": "[encoded data removed]",
            "text/plain": [
              "<Figure size 720x720 with 16 Axes>"
            ]
          },
          "metadata": {}
        },
        {
          "output_type": "stream",
          "name": "stdout",
          "text": [
            "[9 0 0 3 0 2 7 2 5 5 0 9 5 5 7 9]\n"
          ]
        }
      ]
    },
    {
      "cell_type": "markdown",
      "metadata": {
        "id": "hLwv0tJidGCK"
      },
      "source": [
        "라벨의 정의는 아래와 같습니다.\n",
        "\n",
        "| 라벨 \t| 범주 \t|\n",
        "|:----:\t|:-----------:\t|\n",
        "| 0 \t| 티셔츠/상의 \t|\n",
        "| 1 \t| 바지 \t|\n",
        "| 2 \t| 스웨터 \t|\n",
        "| 3 \t| 드레스 \t|\n",
        "| 4 \t| 코트 \t|\n",
        "| 5 \t| 샌들 \t|\n",
        "| 6 \t| 셔츠 \t|\n",
        "| 7 \t| 운동화 \t|\n",
        "| 8 \t| 가방 \t|\n",
        "| 9 \t| 부츠 \t|\n",
        "\n",
        "라벨의 정의와 비교해보면, 라벨이 잘 분류되어 있는 것을 확인할 수 있습니다. 이제 모델을 생성합니다. \n",
        "\n",
        "## III. 딥러닝 모델 생성\n",
        "\n",
        "### (1) 컨볼루션 신경망 모델 정의\n",
        "컨볼루션 신경망 모델 정의는 풀링 레이어 또는 드롭아웃 없이 정의된 모델을 말합니다. \n"
      ]
    },
    {
      "cell_type": "code",
      "metadata": {
        "id": "HWayCg-weYMx",
        "colab": {
          "base_uri": "https://localhost:8080/"
        },
        "outputId": "9aa9e61e-380c-4364-e57a-5c94a2dd7d3e"
      },
      "source": [
        "model = tf.keras.Sequential([\n",
        "  tf.keras.layers.Conv2D(input_shape=(28,28,1), kernel_size=(3,3), filters=16),\n",
        "  tf.keras.layers.Conv2D(kernel_size=(3,3), filters=32), \n",
        "  tf.keras.layers.Conv2D(kernel_size=(3,3), filters=64), \n",
        "  tf.keras.layers.Flatten(), \n",
        "  tf.keras.layers.Dense(units=128, activation='relu'), \n",
        "  tf.keras.layers.Dense(units=10, activation='softmax')                             \n",
        "])\n",
        "\n",
        "model.summary()\n",
        "\n",
        "model.compile(optimizer=tf.keras.optimizers.Adam(), \n",
        "              loss='sparse_categorical_crossentropy', \n",
        "              metrics=['accuracy'])\n"
      ],
      "execution_count": null,
      "outputs": [
        {
          "output_type": "stream",
          "name": "stdout",
          "text": [
            "Model: \"sequential\"\n",
            "_________________________________________________________________\n",
            " Layer (type)                Output Shape              Param #   \n",
            "=================================================================\n",
            " conv2d (Conv2D)             (None, 26, 26, 16)        160       \n",
            "                                                                 \n",
            " conv2d_1 (Conv2D)           (None, 24, 24, 32)        4640      \n",
            "                                                                 \n",
            " conv2d_2 (Conv2D)           (None, 22, 22, 64)        18496     \n",
            "                                                                 \n",
            " flatten (Flatten)           (None, 30976)             0         \n",
            "                                                                 \n",
            " dense (Dense)               (None, 128)               3965056   \n",
            "                                                                 \n",
            " dense_1 (Dense)             (None, 10)                1290      \n",
            "                                                                 \n",
            "=================================================================\n",
            "Total params: 3,989,642\n",
            "Trainable params: 3,989,642\n",
            "Non-trainable params: 0\n",
            "_________________________________________________________________\n"
          ]
        }
      ]
    },
    {
      "cell_type": "markdown",
      "metadata": {
        "id": "b2tYalClgElM"
      },
      "source": [
        "`Conv2D`의 인수에 대해 정리하도록 합니다. \n",
        "- `kernel_size`: 필터 행렬의 크기를 말하며, 수용 영역(receptive filed)이라고 불리워집니다. 앞의 숫자는 높이, 뒤의 숫자는 너비이고, 숫자를 하나만 쓸 경우 높이와 너비를 동일한 값으로 사용한다는 뜻입니다.[^1]\n",
        "- `filters`: 필터의 개수를 의미하며, 네트워크가 깊어질수록 2배씩 늘려나갑니다. \n",
        "\n",
        "[^1]: 이 부분은 교재 p. 145~147에 이미지로 설명이 잘 되어 있으니 참고하기를 바랍니다. "
      ]
    },
    {
      "cell_type": "code",
      "metadata": {
        "id": "sOkwnjjfhPN9",
        "colab": {
          "base_uri": "https://localhost:8080/"
        },
        "outputId": "6b7abf8e-c560-497a-e843-fa6ab132a1b5"
      },
      "source": [
        "!nvidia-smi"
      ],
      "execution_count": null,
      "outputs": [
        {
          "output_type": "stream",
          "name": "stdout",
          "text": [
            "Tue Nov 16 00:49:17 2021       \n",
            "+-----------------------------------------------------------------------------+\n",
            "| NVIDIA-SMI 495.44       Driver Version: 460.32.03    CUDA Version: 11.2     |\n",
            "|-------------------------------+----------------------+----------------------+\n",
            "| GPU  Name        Persistence-M| Bus-Id        Disp.A | Volatile Uncorr. ECC |\n",
            "| Fan  Temp  Perf  Pwr:Usage/Cap|         Memory-Usage | GPU-Util  Compute M. |\n",
            "|                               |                      |               MIG M. |\n",
            "|===============================+======================+======================|\n",
            "|   0  Tesla K80           Off  | 00000000:00:04.0 Off |                    0 |\n",
            "| N/A   68C    P0    71W / 149W |    211MiB / 11441MiB |      0%      Default |\n",
            "|                               |                      |                  N/A |\n",
            "+-------------------------------+----------------------+----------------------+\n",
            "                                                                               \n",
            "+-----------------------------------------------------------------------------+\n",
            "| Processes:                                                                  |\n",
            "|  GPU   GI   CI        PID   Type   Process name                  GPU Memory |\n",
            "|        ID   ID                                                   Usage      |\n",
            "|=============================================================================|\n",
            "|  No running processes found                                                 |\n",
            "+-----------------------------------------------------------------------------+\n"
          ]
        }
      ]
    },
    {
      "cell_type": "markdown",
      "metadata": {
        "id": "209GX76Mhbuy"
      },
      "source": [
        "위 명령어는 현재 구글 코랩에서 지원하는 GPU의 성능입니다. `Tesla K80`을 사용하고 있습니다. \n",
        "\n",
        "구글 코랩에서는 무료로 GPU를 사용할 수 있도록 도와줍니다. 하드웨어 가속기를 사용하려면 [메뉴]-[런타임]-[런타임 유형 변경]-[하드웨어 가속기]-[GPU]로 지정하면 됩니다. \n",
        "\n",
        "## (2) 컨볼루션 신경망 모델 학습\n",
        "\n",
        "신경망 모형을 학습하는데, 시간이 조금 소요되니 참고바란다. (약 10분)"
      ]
    },
    {
      "cell_type": "code",
      "metadata": {
        "id": "36zXlsuOiKXm",
        "colab": {
          "base_uri": "https://localhost:8080/"
        },
        "outputId": "b684937c-2212-44f6-c05b-e8c2598cd25f"
      },
      "source": [
        "history = model.fit(train_X, train_Y, epochs=25, validation_split=0.25)"
      ],
      "execution_count": null,
      "outputs": [
        {
          "output_type": "stream",
          "name": "stdout",
          "text": [
            "Epoch 1/25\n",
            "1407/1407 [==============================] - 46s 11ms/step - loss: 0.4595 - accuracy: 0.8362 - val_loss: 0.3965 - val_accuracy: 0.8567\n",
            "Epoch 2/25\n",
            "1407/1407 [==============================] - 14s 10ms/step - loss: 0.3362 - accuracy: 0.8791 - val_loss: 0.3651 - val_accuracy: 0.8687\n",
            "Epoch 3/25\n",
            "1407/1407 [==============================] - 15s 11ms/step - loss: 0.2810 - accuracy: 0.8962 - val_loss: 0.3966 - val_accuracy: 0.8599\n",
            "Epoch 4/25\n",
            "1407/1407 [==============================] - 14s 10ms/step - loss: 0.2415 - accuracy: 0.9107 - val_loss: 0.4016 - val_accuracy: 0.8688\n",
            "Epoch 5/25\n",
            "1407/1407 [==============================] - 15s 11ms/step - loss: 0.2096 - accuracy: 0.9218 - val_loss: 0.5159 - val_accuracy: 0.8486\n",
            "Epoch 6/25\n",
            "1407/1407 [==============================] - 15s 10ms/step - loss: 0.1841 - accuracy: 0.9314 - val_loss: 0.4702 - val_accuracy: 0.8697\n",
            "Epoch 7/25\n",
            "1407/1407 [==============================] - 15s 11ms/step - loss: 0.1689 - accuracy: 0.9387 - val_loss: 0.4983 - val_accuracy: 0.8734\n",
            "Epoch 8/25\n",
            "1407/1407 [==============================] - 14s 10ms/step - loss: 0.1467 - accuracy: 0.9457 - val_loss: 0.5283 - val_accuracy: 0.8688\n",
            "Epoch 9/25\n",
            "1407/1407 [==============================] - 15s 11ms/step - loss: 0.1347 - accuracy: 0.9503 - val_loss: 0.6061 - val_accuracy: 0.8652\n",
            "Epoch 10/25\n",
            "1407/1407 [==============================] - 15s 11ms/step - loss: 0.1259 - accuracy: 0.9527 - val_loss: 0.6020 - val_accuracy: 0.8717\n",
            "Epoch 11/25\n",
            "1407/1407 [==============================] - 15s 10ms/step - loss: 0.1170 - accuracy: 0.9577 - val_loss: 0.6367 - val_accuracy: 0.8660\n",
            "Epoch 12/25\n",
            "1407/1407 [==============================] - 15s 11ms/step - loss: 0.1042 - accuracy: 0.9613 - val_loss: 0.7231 - val_accuracy: 0.8570\n",
            "Epoch 13/25\n",
            "1407/1407 [==============================] - 15s 10ms/step - loss: 0.0988 - accuracy: 0.9650 - val_loss: 0.7198 - val_accuracy: 0.8658\n",
            "Epoch 14/25\n",
            "1407/1407 [==============================] - 15s 11ms/step - loss: 0.0989 - accuracy: 0.9656 - val_loss: 0.7580 - val_accuracy: 0.8598\n",
            "Epoch 15/25\n",
            "1407/1407 [==============================] - 14s 10ms/step - loss: 0.0812 - accuracy: 0.9705 - val_loss: 0.8914 - val_accuracy: 0.8669\n",
            "Epoch 16/25\n",
            "1407/1407 [==============================] - 15s 11ms/step - loss: 0.0875 - accuracy: 0.9699 - val_loss: 0.8660 - val_accuracy: 0.8650\n",
            "Epoch 17/25\n",
            "1407/1407 [==============================] - 14s 10ms/step - loss: 0.0819 - accuracy: 0.9712 - val_loss: 0.9959 - val_accuracy: 0.8505\n",
            "Epoch 18/25\n",
            "1407/1407 [==============================] - 15s 11ms/step - loss: 0.0758 - accuracy: 0.9734 - val_loss: 0.9134 - val_accuracy: 0.8725\n",
            "Epoch 19/25\n",
            "1407/1407 [==============================] - 14s 10ms/step - loss: 0.0819 - accuracy: 0.9735 - val_loss: 0.9657 - val_accuracy: 0.8645\n",
            "Epoch 20/25\n",
            "1407/1407 [==============================] - 15s 11ms/step - loss: 0.0747 - accuracy: 0.9752 - val_loss: 0.9560 - val_accuracy: 0.8649\n",
            "Epoch 21/25\n",
            "1407/1407 [==============================] - 14s 10ms/step - loss: 0.0603 - accuracy: 0.9786 - val_loss: 1.0045 - val_accuracy: 0.8669\n",
            "Epoch 22/25\n",
            "1407/1407 [==============================] - 15s 11ms/step - loss: 0.0721 - accuracy: 0.9756 - val_loss: 1.1582 - val_accuracy: 0.8617\n",
            "Epoch 23/25\n",
            "1407/1407 [==============================] - 14s 10ms/step - loss: 0.0679 - accuracy: 0.9767 - val_loss: 1.1938 - val_accuracy: 0.8673\n",
            "Epoch 24/25\n",
            "1407/1407 [==============================] - 14s 10ms/step - loss: 0.0633 - accuracy: 0.9796 - val_loss: 1.2248 - val_accuracy: 0.8676\n",
            "Epoch 25/25\n",
            "1407/1407 [==============================] - 14s 10ms/step - loss: 0.0626 - accuracy: 0.9789 - val_loss: 1.2785 - val_accuracy: 0.8631\n"
          ]
        }
      ]
    },
    {
      "cell_type": "markdown",
      "metadata": {
        "id": "bI7yFRNMmLSO"
      },
      "source": [
        "이렇게 생성된 모형은 시각화로 다시 확인한다. "
      ]
    },
    {
      "cell_type": "code",
      "metadata": {
        "id": "aRds0XV6mb1r",
        "colab": {
          "base_uri": "https://localhost:8080/",
          "height": 302
        },
        "outputId": "eb9765b3-3a70-46b7-bf22-a271df80cc28"
      },
      "source": [
        "import matplotlib.pyplot as plt\n",
        "plt.figure(figsize=(12, 4))\n",
        "\n",
        "plt.subplot(1,2,1)\n",
        "plt.plot(history.history['loss'], 'b-', label='loss')\n",
        "plt.plot(history.history['val_loss'], 'r--', label='val_loss')\n",
        "plt.xlabel('Epoch')\n",
        "plt.legend()\n",
        "\n",
        "plt.subplot(1,2,2)\n",
        "plt.plot(history.history['accuracy'], 'g-', label='accuracy')\n",
        "plt.plot(history.history['val_accuracy'], 'r--', label='val_accuracy')\n",
        "plt.xlabel('Epoch')\n",
        "plt.ylim(0.7, 1)\n",
        "plt.legend()\n",
        "\n",
        "plt.show()\n",
        "\n",
        "model.evaluate(test_X, test_Y, verbose=0)"
      ],
      "execution_count": null,
      "outputs": [
        {
          "output_type": "display_data",
          "data": {
            "image/png": "[encoded data removed]",
            "text/plain": [
              "<Figure size 864x288 with 2 Axes>"
            ]
          },
          "metadata": {
            "needs_background": "light"
          }
        },
        {
          "output_type": "execute_result",
          "data": {
            "text/plain": [
              "[1.3311543464660645, 0.8615000247955322]"
            ]
          },
          "metadata": {},
          "execution_count": 7
        }
      ]
    },
    {
      "cell_type": "markdown",
      "metadata": {
        "id": "2CQFsa0_m7QS"
      },
      "source": [
        "왼쪽 그래프를 확인하면, `loss`는 감소하고, 대신 `var_loss`는 증가하는 전형적인 과적합의 형태를 나타냅니다. 이럴경우 모형에도 악영향이 있어서, 오히려 단순 딥러닝 모형의 성과가 더 좋은 것을 확인할 수 있습니다. \n",
        "\n",
        "- 테스트 데이터의 85.21% Vs. 5.3장의 Dense Layer 88.5%\n",
        "\n",
        "즉, 컨볼루션 레이어만 사용할 경우, 오히려 성능이 더 좋지 않은 것을 확인할 수 있었습니다. 이제 성능을 개선해봅니다. \n",
        "\n",
        "### (3) 풀링 레이어, 드롭아웃 레이어 추가 (약 10분)\n"
      ]
    },
    {
      "cell_type": "code",
      "metadata": {
        "id": "Wcwh_EF3oLlL",
        "colab": {
          "base_uri": "https://localhost:8080/"
        },
        "outputId": "8de2dd38-fbb0-4cf4-cc96-9292fe456153"
      },
      "source": [
        "model = tf.keras.Sequential([\n",
        "  tf.keras.layers.Conv2D(input_shape=(28,28,1), kernel_size=(3,3), filters=32), \n",
        "  tf.keras.layers.MaxPool2D(strides=(2,2)), \n",
        "  tf.keras.layers.Conv2D(kernel_size=(3,3), filters=64), \n",
        "  tf.keras.layers.MaxPool2D(strides=(2,2)), \n",
        "  tf.keras.layers.Conv2D(kernel_size=(3,3), filters=128), \n",
        "  tf.keras.layers.Flatten(), \n",
        "  tf.keras.layers.Dense(units=128, activation='relu'), \n",
        "  tf.keras.layers.Dropout(rate=0.3),\n",
        "  tf.keras.layers.Dense(units=10, activation='softmax')                             \n",
        "])\n",
        "\n",
        "model.compile(optimizer=tf.keras.optimizers.Adam(), \n",
        "              loss='sparse_categorical_crossentropy', \n",
        "              metrics=['accuracy'])\n",
        "\n",
        "model.summary()"
      ],
      "execution_count": null,
      "outputs": [
        {
          "output_type": "stream",
          "name": "stdout",
          "text": [
            "Model: \"sequential_1\"\n",
            "_________________________________________________________________\n",
            " Layer (type)                Output Shape              Param #   \n",
            "=================================================================\n",
            " conv2d_3 (Conv2D)           (None, 26, 26, 32)        320       \n",
            "                                                                 \n",
            " max_pooling2d (MaxPooling2D  (None, 13, 13, 32)       0         \n",
            " )                                                               \n",
            "                                                                 \n",
            " conv2d_4 (Conv2D)           (None, 11, 11, 64)        18496     \n",
            "                                                                 \n",
            " max_pooling2d_1 (MaxPooling  (None, 5, 5, 64)         0         \n",
            " 2D)                                                             \n",
            "                                                                 \n",
            " conv2d_5 (Conv2D)           (None, 3, 3, 128)         73856     \n",
            "                                                                 \n",
            " flatten_1 (Flatten)         (None, 1152)              0         \n",
            "                                                                 \n",
            " dense_2 (Dense)             (None, 128)               147584    \n",
            "                                                                 \n",
            " dropout (Dropout)           (None, 128)               0         \n",
            "                                                                 \n",
            " dense_3 (Dense)             (None, 10)                1290      \n",
            "                                                                 \n",
            "=================================================================\n",
            "Total params: 241,546\n",
            "Trainable params: 241,546\n",
            "Non-trainable params: 0\n",
            "_________________________________________________________________\n"
          ]
        }
      ]
    },
    {
      "cell_type": "markdown",
      "metadata": {
        "id": "JBQVLMu3oh1J"
      },
      "source": [
        "이번에 추가된 인수는 `MaxPool2D(strides=(2,2)`)와 `Dropout(rate=0.3)`입니다. \n",
        "- strides: 필터가 계산 과정에서 한 스텝마다 이동하는 크기입니다. 기본값은 (1,1)이고, (2,2) 등으로 설정할 경우 한 칸씩 건너뛰면서 계산하게 되니다. strides=1일 때와 2일 때의 결과 이미지의 크기에 영향을 줍니다. \n",
        "- rate: 제외할 뉴런의 비율을 나타냅니다. \n",
        "\n",
        "여기서 확인해야 하는 개수 `Param`의 개수입니다. \n",
        "\n",
        "기존 `3,989,642`에서 `241,546`으로 대폭 줄어든 것을 확인할 수 있습니다. 이는 `Flatten`에 들어오는 `Params`의 개수가 기존 `(None, 30976)`에 비해 `(None, 1152)`에 비해 크게 줄어들었기 때문입니다. \n",
        "\n",
        "다시한번, 풀링 레이어와 드롭아웃 레어는 모두 과적합을 줄이는 데 기여합니다. "
      ]
    },
    {
      "cell_type": "code",
      "metadata": {
        "id": "T16aiobUqVjV",
        "colab": {
          "base_uri": "https://localhost:8080/"
        },
        "outputId": "a4d76053-1bd3-4044-e69a-e71ff98ecda7"
      },
      "source": [
        "history = model.fit(train_X, train_Y, epochs=10, validation_split=0.25)"
      ],
      "execution_count": null,
      "outputs": [
        {
          "output_type": "stream",
          "name": "stdout",
          "text": [
            "Epoch 1/10\n",
            "1407/1407 [==============================] - 12s 8ms/step - loss: 0.5272 - accuracy: 0.8096 - val_loss: 0.3811 - val_accuracy: 0.8606\n",
            "Epoch 2/10\n",
            "1407/1407 [==============================] - 12s 8ms/step - loss: 0.3608 - accuracy: 0.8693 - val_loss: 0.3421 - val_accuracy: 0.8773\n",
            "Epoch 3/10\n",
            "1407/1407 [==============================] - 12s 8ms/step - loss: 0.3179 - accuracy: 0.8857 - val_loss: 0.3236 - val_accuracy: 0.8785\n",
            "Epoch 4/10\n",
            "1407/1407 [==============================] - 12s 8ms/step - loss: 0.2911 - accuracy: 0.8932 - val_loss: 0.3049 - val_accuracy: 0.8877\n",
            "Epoch 5/10\n",
            "1407/1407 [==============================] - 12s 8ms/step - loss: 0.2693 - accuracy: 0.9019 - val_loss: 0.3201 - val_accuracy: 0.8903\n",
            "Epoch 6/10\n",
            "1407/1407 [==============================] - 11s 8ms/step - loss: 0.2518 - accuracy: 0.9070 - val_loss: 0.3375 - val_accuracy: 0.8809\n",
            "Epoch 7/10\n",
            "1407/1407 [==============================] - 11s 8ms/step - loss: 0.2412 - accuracy: 0.9114 - val_loss: 0.3039 - val_accuracy: 0.8943\n",
            "Epoch 8/10\n",
            "1407/1407 [==============================] - 11s 8ms/step - loss: 0.2238 - accuracy: 0.9170 - val_loss: 0.3161 - val_accuracy: 0.8952\n",
            "Epoch 9/10\n",
            "1407/1407 [==============================] - 11s 8ms/step - loss: 0.2127 - accuracy: 0.9205 - val_loss: 0.3338 - val_accuracy: 0.8965\n",
            "Epoch 10/10\n",
            "1407/1407 [==============================] - 11s 8ms/step - loss: 0.2015 - accuracy: 0.9248 - val_loss: 0.3135 - val_accuracy: 0.9024\n"
          ]
        }
      ]
    },
    {
      "cell_type": "code",
      "metadata": {
        "id": "mSJpHIgSqrzJ",
        "colab": {
          "base_uri": "https://localhost:8080/",
          "height": 302
        },
        "outputId": "0f6a1219-c593-455c-d2e3-10677e6bc6b2"
      },
      "source": [
        "# history = model.fit(train_X, train_Y, epochs=25, validation_split=0.25)\n",
        "\n",
        "import matplotlib.pyplot as plt\n",
        "plt.figure(figsize=(12, 4))\n",
        "\n",
        "plt.subplot(1,2,1)\n",
        "plt.plot(history.history['loss'], 'b-', label='loss')\n",
        "plt.plot(history.history['val_loss'], 'r--', label='val_loss')\n",
        "plt.xlabel('Epoch')\n",
        "plt.legend()\n",
        "\n",
        "plt.subplot(1,2,2)\n",
        "plt.plot(history.history['accuracy'], 'g-', label='accuracy')\n",
        "plt.plot(history.history['val_accuracy'], 'r--', label='val_accuracy')\n",
        "plt.xlabel('Epoch')\n",
        "plt.ylim(0.7, 1)\n",
        "plt.legend()\n",
        "\n",
        "plt.show()\n",
        "\n",
        "model.evaluate(test_X, test_Y, verbose=0)"
      ],
      "execution_count": null,
      "outputs": [
        {
          "output_type": "display_data",
          "data": {
            "image/png": "[encoded data removed]",
            "text/plain": [
              "<Figure size 864x288 with 2 Axes>"
            ]
          },
          "metadata": {
            "needs_background": "light"
          }
        },
        {
          "output_type": "execute_result",
          "data": {
            "text/plain": [
              "[0.3245030641555786, 0.8974000215530396]"
            ]
          },
          "metadata": {},
          "execution_count": 10
        }
      ]
    },
    {
      "cell_type": "markdown",
      "metadata": {
        "id": "vsrBCPqgrAOd"
      },
      "source": [
        "var_loss는 여전히 증가하지만, `val_accuracy`는 일정한 수준에 머무르고 있습니다. 분류 성적도 `89.06%`로 약 `0.4%` 높은 수치가 나옵니다 (종전: `88.77%`). 그러나, 확실히 컨볼루션 레이어만 활용했을 때 보다는 확실히 좋은 결과가 나온 것을 확인할 수 있습니다. \n",
        "\n",
        "이보다 더 좋은 성과를 낼 수 있습니다. Fashion MNIST의 공식 깃허브 저장소에는 테스트 데이터 분류 성적이 95% 이상을 달성한 방법들도 존재합니다. [^2]\n",
        "\n",
        "## IV. 연습 파일\n",
        "- [구글 Colab에서 직접 연습해보자](https://colab.research.google.com/github/chloevan/deeplearningAI/blob/master/tensorflow2.0/ch6_3_Fashion_MNIST_with_CNN.ipynb) \n",
        "\n",
        "## V. Reference\n",
        "\n",
        "김환희. (2020). 시작하세요! 텐서플로 2.0 프로그래밍: 기초 이론부터 실전 예제까지 한번에 끝내는 머신러닝, 딥러닝 핵심 가이드. 서울: 위키북스.\n",
        "\n",
        "\n",
        "[^2]: https://github.com/zalandoresearch/fashion-mnist#benchmark 파이썬 실력이 되시는 분들은 95%이상의 성능을 보유한 Repo에 있는 코드를 직접 가져와 응용하는 것도 큰 도움이 될 수 있습니다. "
      ]
    },
    {
      "cell_type": "code",
      "metadata": {
        "colab": {
          "base_uri": "https://localhost:8080/"
        },
        "id": "JMO7jXSzarVT",
        "outputId": "afc1ca10-32e0-485d-8608-7b28c6179f43"
      },
      "source": [
        "model = tf.keras.Sequential([\n",
        "  tf.keras.layers.Conv2D(input_shape=(28,28,1), kernel_size=(3,3), filters=128, activation='relu'), \n",
        "  tf.keras.layers.Conv2D(kernel_size=(3,3), filters=128, activation='relu'), \n",
        "  tf.keras.layers.MaxPool2D(strides=(2,2)), \n",
        "  tf.keras.layers.Conv2D(kernel_size=(3,3), filters=64, activation='relu'), \n",
        "  tf.keras.layers.Conv2D(kernel_size=(3,3), filters=64, padding='same', activation='relu'), \n",
        "  tf.keras.layers.MaxPool2D(strides=(2,2)), \n",
        "  tf.keras.layers.Conv2D(kernel_size=(3,3), filters=32, padding='same', activation='relu'), \n",
        "  tf.keras.layers.Conv2D(kernel_size=(3,3), filters=32, padding='same', activation='relu'), \n",
        "  tf.keras.layers.Flatten(), \n",
        "  tf.keras.layers.Dense(units=128, activation='relu'), \n",
        "  tf.keras.layers.Dropout(rate=0.3),\n",
        "  tf.keras.layers.Dense(units=64, activation='relu'), \n",
        "  tf.keras.layers.Dropout(rate=0.3),\n",
        "  tf.keras.layers.Dense(units=10, activation='softmax')                             \n",
        "])\n",
        "\n",
        "model.compile(optimizer=tf.keras.optimizers.Adam(), \n",
        "              loss='sparse_categorical_crossentropy', \n",
        "              metrics=['accuracy'])\n",
        "\n",
        "model.summary()"
      ],
      "execution_count": null,
      "outputs": [
        {
          "output_type": "stream",
          "name": "stdout",
          "text": [
            "Model: \"sequential_2\"\n",
            "_________________________________________________________________\n",
            " Layer (type)                Output Shape              Param #   \n",
            "=================================================================\n",
            " conv2d_6 (Conv2D)           (None, 26, 26, 128)       1280      \n",
            "                                                                 \n",
            " conv2d_7 (Conv2D)           (None, 24, 24, 128)       147584    \n",
            "                                                                 \n",
            " max_pooling2d_2 (MaxPooling  (None, 12, 12, 128)      0         \n",
            " 2D)                                                             \n",
            "                                                                 \n",
            " conv2d_8 (Conv2D)           (None, 10, 10, 64)        73792     \n",
            "                                                                 \n",
            " conv2d_9 (Conv2D)           (None, 10, 10, 64)        36928     \n",
            "                                                                 \n",
            " max_pooling2d_3 (MaxPooling  (None, 5, 5, 64)         0         \n",
            " 2D)                                                             \n",
            "                                                                 \n",
            " conv2d_10 (Conv2D)          (None, 5, 5, 32)          18464     \n",
            "                                                                 \n",
            " conv2d_11 (Conv2D)          (None, 5, 5, 32)          9248      \n",
            "                                                                 \n",
            " flatten_2 (Flatten)         (None, 800)               0         \n",
            "                                                                 \n",
            " dense_4 (Dense)             (None, 128)               102528    \n",
            "                                                                 \n",
            " dropout_1 (Dropout)         (None, 128)               0         \n",
            "                                                                 \n",
            " dense_5 (Dense)             (None, 64)                8256      \n",
            "                                                                 \n",
            " dropout_2 (Dropout)         (None, 64)                0         \n",
            "                                                                 \n",
            " dense_6 (Dense)             (None, 10)                650       \n",
            "                                                                 \n",
            "=================================================================\n",
            "Total params: 398,730\n",
            "Trainable params: 398,730\n",
            "Non-trainable params: 0\n",
            "_________________________________________________________________\n"
          ]
        }
      ]
    },
    {
      "cell_type": "code",
      "metadata": {
        "colab": {
          "base_uri": "https://localhost:8080/",
          "height": 1000
        },
        "id": "_TiFQ52zarNF",
        "outputId": "63a41143-f03b-48ee-e057-587d2669178d"
      },
      "source": [
        "history = model.fit(train_X, train_Y, epochs=25, validation_split=0.25)\n",
        "\n",
        "import matplotlib.pyplot as plt\n",
        "plt.figure(figsize=(12, 4))\n",
        "\n",
        "plt.subplot(1,2,1)\n",
        "plt.plot(history.history['loss'], 'b-', label='loss')\n",
        "plt.plot(history.history['val_loss'], 'r--', label='val_loss')\n",
        "plt.xlabel('Epoch')\n",
        "plt.legend()\n",
        "\n",
        "plt.subplot(1,2,2)\n",
        "plt.plot(history.history['accuracy'], 'g-', label='accuracy')\n",
        "plt.plot(history.history['val_accuracy'], 'r--', label='val_accuracy')\n",
        "plt.xlabel('Epoch')\n",
        "plt.ylim(0.7, 1)\n",
        "plt.legend()\n",
        "\n",
        "plt.show()\n",
        "\n",
        "model.evaluate(test_X, test_Y, verbose=0)"
      ],
      "execution_count": null,
      "outputs": [
        {
          "output_type": "stream",
          "name": "stdout",
          "text": [
            "Epoch 1/25\n",
            "1407/1407 [==============================] - 25s 17ms/step - loss: 0.6416 - accuracy: 0.7688 - val_loss: 0.4095 - val_accuracy: 0.8528\n",
            "Epoch 2/25\n",
            "1407/1407 [==============================] - 24s 17ms/step - loss: 0.3751 - accuracy: 0.8659 - val_loss: 0.3191 - val_accuracy: 0.8802\n",
            "Epoch 3/25\n",
            "1407/1407 [==============================] - 24s 17ms/step - loss: 0.3174 - accuracy: 0.8872 - val_loss: 0.2875 - val_accuracy: 0.8980\n",
            "Epoch 4/25\n",
            "1407/1407 [==============================] - 24s 17ms/step - loss: 0.2808 - accuracy: 0.9006 - val_loss: 0.2729 - val_accuracy: 0.9041\n",
            "Epoch 5/25\n",
            "1407/1407 [==============================] - 24s 17ms/step - loss: 0.2565 - accuracy: 0.9092 - val_loss: 0.2828 - val_accuracy: 0.8997\n",
            "Epoch 6/25\n",
            "1407/1407 [==============================] - 23s 17ms/step - loss: 0.2402 - accuracy: 0.9158 - val_loss: 0.2591 - val_accuracy: 0.9023\n",
            "Epoch 7/25\n",
            "1407/1407 [==============================] - 24s 17ms/step - loss: 0.2262 - accuracy: 0.9187 - val_loss: 0.2723 - val_accuracy: 0.9051\n",
            "Epoch 8/25\n",
            "1407/1407 [==============================] - 24s 17ms/step - loss: 0.2087 - accuracy: 0.9251 - val_loss: 0.2509 - val_accuracy: 0.9109\n",
            "Epoch 9/25\n",
            "1407/1407 [==============================] - 24s 17ms/step - loss: 0.1974 - accuracy: 0.9286 - val_loss: 0.2391 - val_accuracy: 0.9171\n",
            "Epoch 10/25\n",
            "1407/1407 [==============================] - 24s 17ms/step - loss: 0.1848 - accuracy: 0.9344 - val_loss: 0.2515 - val_accuracy: 0.9138\n",
            "Epoch 11/25\n",
            "1407/1407 [==============================] - 24s 17ms/step - loss: 0.1752 - accuracy: 0.9369 - val_loss: 0.2647 - val_accuracy: 0.9136\n",
            "Epoch 12/25\n",
            "1407/1407 [==============================] - 24s 17ms/step - loss: 0.1688 - accuracy: 0.9388 - val_loss: 0.2491 - val_accuracy: 0.9146\n",
            "Epoch 13/25\n",
            "1407/1407 [==============================] - 24s 17ms/step - loss: 0.1589 - accuracy: 0.9410 - val_loss: 0.2760 - val_accuracy: 0.9155\n",
            "Epoch 14/25\n",
            "1407/1407 [==============================] - 24s 17ms/step - loss: 0.1512 - accuracy: 0.9452 - val_loss: 0.2709 - val_accuracy: 0.9131\n",
            "Epoch 15/25\n",
            "1407/1407 [==============================] - 24s 17ms/step - loss: 0.1442 - accuracy: 0.9478 - val_loss: 0.2717 - val_accuracy: 0.9108\n",
            "Epoch 16/25\n",
            "1407/1407 [==============================] - 24s 17ms/step - loss: 0.1438 - accuracy: 0.9486 - val_loss: 0.2555 - val_accuracy: 0.9207\n",
            "Epoch 17/25\n",
            "1407/1407 [==============================] - 24s 17ms/step - loss: 0.1307 - accuracy: 0.9521 - val_loss: 0.2908 - val_accuracy: 0.9145\n",
            "Epoch 18/25\n",
            "1407/1407 [==============================] - 24s 17ms/step - loss: 0.1311 - accuracy: 0.9520 - val_loss: 0.2694 - val_accuracy: 0.9185\n",
            "Epoch 19/25\n",
            "1407/1407 [==============================] - 24s 17ms/step - loss: 0.1280 - accuracy: 0.9538 - val_loss: 0.3006 - val_accuracy: 0.9171\n",
            "Epoch 20/25\n",
            "1407/1407 [==============================] - 24s 17ms/step - loss: 0.1235 - accuracy: 0.9545 - val_loss: 0.2923 - val_accuracy: 0.9155\n",
            "Epoch 21/25\n",
            "1407/1407 [==============================] - 24s 17ms/step - loss: 0.1121 - accuracy: 0.9592 - val_loss: 0.3129 - val_accuracy: 0.9213\n",
            "Epoch 22/25\n",
            "1407/1407 [==============================] - 24s 17ms/step - loss: 0.1161 - accuracy: 0.9586 - val_loss: 0.2863 - val_accuracy: 0.9201\n",
            "Epoch 23/25\n",
            "1407/1407 [==============================] - 24s 17ms/step - loss: 0.1045 - accuracy: 0.9625 - val_loss: 0.3225 - val_accuracy: 0.9195\n",
            "Epoch 24/25\n",
            "1407/1407 [==============================] - 24s 17ms/step - loss: 0.1072 - accuracy: 0.9623 - val_loss: 0.3157 - val_accuracy: 0.9187\n",
            "Epoch 25/25\n",
            "1407/1407 [==============================] - 24s 17ms/step - loss: 0.0988 - accuracy: 0.9651 - val_loss: 0.3475 - val_accuracy: 0.9167\n"
          ]
        },
        {
          "output_type": "display_data",
          "data": {
            "image/png": "[encoded data removed]",
            "text/plain": [
              "<Figure size 864x288 with 2 Axes>"
            ]
          },
          "metadata": {
            "needs_background": "light"
          }
        },
        {
          "output_type": "execute_result",
          "data": {
            "text/plain": [
              "[0.3546333312988281, 0.9143999814987183]"
            ]
          },
          "metadata": {},
          "execution_count": 12
        }
      ]
    },
    {
      "cell_type": "code",
      "metadata": {
        "id": "gGbPJP_7aq-p"
      },
      "source": [
        ""
      ],
      "execution_count": null,
      "outputs": []
    },
    {
      "cell_type": "markdown",
      "metadata": {
        "id": "Btb1JWO0fhQa"
      },
      "source": [
        "스트라이드와 패딩에 따른 콘볼루션의 결과"
      ]
    },
    {
      "cell_type": "code",
      "metadata": {
        "colab": {
          "base_uri": "https://localhost:8080/"
        },
        "id": "0BGKcodjMAOm",
        "outputId": "15655970-eaef-44ff-a4f6-e4eea726fb55"
      },
      "source": [
        "model = tf.keras.Sequential([\n",
        "  tf.keras.layers.Conv2D(input_shape=(28,28,1), kernel_size=(3,3), filters=8, activation='relu'),\n",
        "  tf.keras.layers.Conv2D(kernel_size=(3,3), strides=(2, 2), padding='valid', filters=16, activation='relu'), \n",
        "  tf.keras.layers.Conv2D(kernel_size=(3,3), strides=(3, 3), padding='same', filters=32, activation='relu'), \n",
        "  tf.keras.layers.Flatten(), \n",
        "  tf.keras.layers.Dense(units=64, activation='relu'), \n",
        "  tf.keras.layers.Dense(units=10, activation='softmax')                             \n",
        "])\n",
        "\n",
        "model.summary()"
      ],
      "execution_count": null,
      "outputs": [
        {
          "output_type": "stream",
          "name": "stdout",
          "text": [
            "Model: \"sequential_3\"\n",
            "_________________________________________________________________\n",
            " Layer (type)                Output Shape              Param #   \n",
            "=================================================================\n",
            " conv2d_12 (Conv2D)          (None, 26, 26, 8)         80        \n",
            "                                                                 \n",
            " conv2d_13 (Conv2D)          (None, 12, 12, 16)        1168      \n",
            "                                                                 \n",
            " conv2d_14 (Conv2D)          (None, 4, 4, 32)          4640      \n",
            "                                                                 \n",
            " flatten_3 (Flatten)         (None, 512)               0         \n",
            "                                                                 \n",
            " dense_7 (Dense)             (None, 64)                32832     \n",
            "                                                                 \n",
            " dense_8 (Dense)             (None, 10)                650       \n",
            "                                                                 \n",
            "=================================================================\n",
            "Total params: 39,370\n",
            "Trainable params: 39,370\n",
            "Non-trainable params: 0\n",
            "_________________________________________________________________\n"
          ]
        }
      ]
    },
    {
      "cell_type": "code",
      "metadata": {
        "colab": {
          "base_uri": "https://localhost:8080/"
        },
        "id": "iRgGlKF_mrmu",
        "outputId": "92d9ed6b-2234-460d-f7dc-2f6d70b5a006"
      },
      "source": [
        "model = tf.keras.Sequential([\n",
        "  tf.keras.layers.Conv2D(input_shape=(28,28,1), kernel_size=(4,4), filters=8, activation='relu'),\n",
        "  tf.keras.layers.Conv2D(kernel_size=(3,3), strides=(2, 2), padding='valid', filters=16, activation='relu'), \n",
        "  tf.keras.layers.Conv2D(kernel_size=(3,3), strides=(3, 3), padding='same', filters=32, activation='relu'), \n",
        "  tf.keras.layers.Flatten(), \n",
        "  tf.keras.layers.Dense(units=64, activation='relu'), \n",
        "  tf.keras.layers.Dense(units=10, activation='softmax')                             \n",
        "])\n",
        "\n",
        "model.summary()"
      ],
      "execution_count": null,
      "outputs": [
        {
          "output_type": "stream",
          "name": "stdout",
          "text": [
            "Model: \"sequential_4\"\n",
            "_________________________________________________________________\n",
            " Layer (type)                Output Shape              Param #   \n",
            "=================================================================\n",
            " conv2d_15 (Conv2D)          (None, 25, 25, 8)         136       \n",
            "                                                                 \n",
            " conv2d_16 (Conv2D)          (None, 12, 12, 16)        1168      \n",
            "                                                                 \n",
            " conv2d_17 (Conv2D)          (None, 4, 4, 32)          4640      \n",
            "                                                                 \n",
            " flatten_4 (Flatten)         (None, 512)               0         \n",
            "                                                                 \n",
            " dense_9 (Dense)             (None, 64)                32832     \n",
            "                                                                 \n",
            " dense_10 (Dense)            (None, 10)                650       \n",
            "                                                                 \n",
            "=================================================================\n",
            "Total params: 39,426\n",
            "Trainable params: 39,426\n",
            "Non-trainable params: 0\n",
            "_________________________________________________________________\n"
          ]
        }
      ]
    }
  ]
}